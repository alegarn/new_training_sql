{
 "cells": [
  {
   "cell_type": "markdown",
   "id": "fb104fff",
   "metadata": {},
   "source": [
    "# Python training SQL"
   ]
  },
  {
   "cell_type": "markdown",
   "id": "a906fb45",
   "metadata": {},
   "source": [
    "Some basic questions:\n",
    "- In this database, show the customers, products, finally the orders. \n",
    "- Display customers that put stuff in their carts, who ordered, pending carts.\n",
    "\n",
    "Calculations:\n",
    "- In this database, display the total number of customers, products and orders.\n",
    "- In this database, show the number of pending carts. \n",
    "- In this database, display the total orders amount (let's change the times, 1 month)\n",
    "- In this database, find the top 5 customers (ordered by spending amount)\n",
    "- In this database find the flop 5 customers (ordered by spending amount)\n",
    "- In this database, find the top 5 products. (ordered most, in quantity)\n",
    "- In this database, find the average order, product's price.\n",
    "- In this database, find the median order, product price.\n",
    "- In this database, find ordered amount quartils\n",
    "- In this database, find max et min total amount order\n",
    "- In this database, find max et min total quantity ordered\n",
    "- In this database, find max and min price products.\n",
    "- Find all pending carts accumulated values\n",
    "\n",
    "Introduce Windows Functions\n",
    "- Find the best amount spent by customer (max 1 order)\n",
    "- Find all pending carts accumulated values\n",
    "- For customers who ordered, display spending total amounts ranking by deciles\n",
    "- Find per customer, the transactions ranks\n",
    "- Let's rank ordered products by quantity send\n",
    "- Get the average order per group of customer total spending\n",
    "\n",
    "\n",
    "Mix all queries\n",
    "- Temporary column: Product's price classes (low < 33 < medium < 66 < high)\n",
    "- Find the amount spend per customer\n",
    "- Find the most ordered categories\n",
    "- Display the total profits per category "
   ]
  },
  {
   "cell_type": "markdown",
   "id": "14c67a1a",
   "metadata": {},
   "source": [
    "### In this database, show the customers, products, finally the orders. "
   ]
  },
  {
   "cell_type": "code",
   "execution_count": null,
   "id": "21d89c8e",
   "metadata": {},
   "outputs": [],
   "source": [
    "USE `Test_SQL`;\n",
    "\n",
    "SELECT * FROM customers;\n",
    "SELECT * FROM products;\n",
    "SELECT * FROM orders; "
   ]
  },
  {
   "cell_type": "markdown",
   "id": "5ea8990b",
   "metadata": {},
   "source": [
    "### In this database, display customers who ordered,  also with pending carts."
   ]
  },
  {
   "cell_type": "code",
   "execution_count": null,
   "id": "97b975f8",
   "metadata": {},
   "outputs": [],
   "source": [
    "USE `Test_SQL`;\n",
    "\n",
    "SELECT DISTINCT C.customer_id FROM carts as C; -- with carts\n",
    "SELECT C.customer_id FROM customers as C; -- the total\n",
    "\n",
    "SELECT DISTINCT C.customer_id, count(O.cart_id) -- every customers, counting the number of times, that ordered\n",
    "FROM orders as O \n",
    "OUTER JOIN carts as C \n",
    "ON C.cart_id = O.cart_id\n",
    "GROUP BY C.customer_id\n",
    "ORDER BY C.customer_id;\n",
    "\n",
    "SELECT DISTINCT C.customer_id, count(C.cart_id) -- all carts\n",
    "FROM carts as C \n",
    "GROUP BY C.customer_id\n",
    "ORDER BY C.customer_id;\n",
    "\n",
    "SELECT DISTINCT C.customer_id, count(C.cart_id) -- the pending carts\n",
    "FROM carts as C \n",
    "WHERE C.total = 0\n",
    "GROUP BY C.customer_id\n",
    "ORDER BY C.customer_id;"
   ]
  },
  {
   "cell_type": "markdown",
   "id": "34e17992",
   "metadata": {},
   "source": [
    "# Calculations"
   ]
  },
  {
   "cell_type": "markdown",
   "id": "51314087",
   "metadata": {},
   "source": [
    "### In this database, display the total number of customers, products and orders."
   ]
  },
  {
   "cell_type": "code",
   "execution_count": null,
   "id": "11b7cafe",
   "metadata": {},
   "outputs": [],
   "source": [
    "USE `Test_SQL`;\n",
    "\n",
    "SELECT count(C.customer_id) FROM customers as C;\n",
    "SELECT count(O.order_id) FROM orders as O;\n",
    "SELECT count(P.product_id) FROM products as P;"
   ]
  },
  {
   "cell_type": "markdown",
   "id": "542c2f6c",
   "metadata": {},
   "source": [
    "### In this database, show the number of pending carts. "
   ]
  },
  {
   "cell_type": "code",
   "execution_count": null,
   "id": "17adf7f5",
   "metadata": {},
   "outputs": [],
   "source": [
    "-- all pending carts\n",
    "WITH  pending_carts AS \n",
    "\t(SELECT DISTINCT C.customer_id, count(C.cart_id) as cart_count\n",
    "\tFROM carts as C \n",
    "\tWHERE C.total = 0\n",
    "\tGROUP BY C.customer_id\n",
    "\tORDER BY C.customer_id) \n",
    "\t\tSELECT sum(cart_count)\n",
    "        FROM pending_carts;\n"
   ]
  },
  {
   "cell_type": "markdown",
   "id": "2fe1fd16",
   "metadata": {},
   "source": [
    "### In this database, display the total orders amount (let's change the times, 1 month)"
   ]
  },
  {
   "cell_type": "code",
   "execution_count": null,
   "id": "8462203b",
   "metadata": {},
   "outputs": [],
   "source": [
    "SELECT sum(C.total) \n",
    "FROM carts as C, orders as O \n",
    "WHERE C.total > 0 AND O.cart_id = C.cart_id;"
   ]
  },
  {
   "cell_type": "markdown",
   "id": "fc3fd05d",
   "metadata": {},
   "source": [
    "### In this database, find the top 5 customers (ordered by spending amount)"
   ]
  },
  {
   "cell_type": "code",
   "execution_count": null,
   "id": "d95f7ba7",
   "metadata": {},
   "outputs": [],
   "source": [
    "SELECT C.customer_id, SUM(C.total)\n",
    "FROM carts as C, orders as O\n",
    "WHERE O.cart_id = C.cart_id\n",
    "GROUP BY C.customer_id\n",
    "ORDER BY -SUM(C.total)\n",
    "LIMIT 5;"
   ]
  },
  {
   "cell_type": "markdown",
   "id": "70c0f3be",
   "metadata": {},
   "source": [
    "### In this database find the flop 5 customers (ordered by spending amount)"
   ]
  },
  {
   "cell_type": "code",
   "execution_count": null,
   "id": "ae9a977e",
   "metadata": {},
   "outputs": [],
   "source": [
    "SELECT C.customer_id, SUM(C.total)\n",
    "FROM carts as C, orders as O\n",
    "WHERE O.cart_id = C.cart_id\n",
    "GROUP BY C.customer_id\n",
    "ORDER BY SUM(C.total) -- delete the \"-\"\n",
    "LIMIT 5;"
   ]
  },
  {
   "cell_type": "markdown",
   "id": "24664ba1",
   "metadata": {},
   "source": [
    "### In this database, find the top 5 products. (ordered most, in quantity)"
   ]
  },
  {
   "cell_type": "code",
   "execution_count": null,
   "id": "ba351e61",
   "metadata": {},
   "outputs": [],
   "source": [
    "# What is the fastest method?\n",
    "\n",
    "SELECT P.product_id, P.product_name, SUM(Joint.quantity)\n",
    "FROM \n",
    "    carts as C, \n",
    "    orders as O, \n",
    "    cart_products as Joint, \n",
    "    products as P\n",
    "WHERE \n",
    "    O.cart_id = C.cart_id \n",
    "    AND C.total > 0 \n",
    "    AND C.cart_id = Joint.cart_id \n",
    "    AND Joint.product_id = P.product_id\n",
    "GROUP BY \n",
    "    P.product_name, \n",
    "    P.product_id\n",
    "ORDER BY \n",
    "    -SUM(Joint.quantity)\n",
    "LIMIT 5;\n",
    "\n",
    "# Timing (execution time): 0.00198603 s\n",
    "\n",
    "SELECT P.product_id, P.product_name, SUM(Joint.quantity)\n",
    "\tFROM products as P\n",
    "\tINNER JOIN cart_products as Joint\n",
    "    ON Joint.product_id = P.product_id\n",
    "\t\tINNER JOIN carts as C\n",
    "        ON C.cart_id = Joint.cart_id\n",
    "\t\t\tINNER JOIN orders as O\n",
    "            ON O.cart_id = C.cart_id\n",
    "\t\t\t\tWHERE C.total > 0\n",
    "                GROUP BY P.product_name, P.product_id\n",
    "\t\t\t\tORDER BY -SUM(Joint.quantity)\n",
    "\t\t\t\tLIMIT 5;\n",
    "                \n",
    "# Timing (execution time): 0.00216079 s (time +8,79% )\n"
   ]
  },
  {
   "cell_type": "markdown",
   "id": "8c0a99ca",
   "metadata": {},
   "source": [
    "### In this database, find the average order, product's price."
   ]
  },
  {
   "cell_type": "code",
   "execution_count": null,
   "id": "c462e703",
   "metadata": {},
   "outputs": [],
   "source": [
    "SELECT C.customer_id, AVG(C.total)\n",
    "FROM carts as C, orders as O\n",
    "WHERE O.cart_id = C.cart_id AND C.total > 0\n",
    "GROUP BY C.customer_id\n",
    "ORDER BY -AVG(C.total);\n",
    "\n",
    "SELECT AVG(P.price)\n",
    "FROM products as P"
   ]
  },
  {
   "cell_type": "markdown",
   "id": "ea682a81",
   "metadata": {},
   "source": [
    "### In this database, find the median order, product price."
   ]
  },
  {
   "cell_type": "code",
   "execution_count": null,
   "id": "6f80d7dc",
   "metadata": {},
   "outputs": [],
   "source": [
    "#https://www.sisense.com/blog/medians-in-sql/\n",
    "set @ct := (select count(1) from carts);\n",
    "set @row_id := 0;\n",
    "\n",
    "select avg(truc.total) as median\n",
    "from (select * from carts order by carts.total) as truc, orders\n",
    "where (select @row_id := @row_id + 1 as machin) AND truc.total > 0 AND truc.cart_id = orders.cart_id\n",
    "between @ct/2.0 and @ct/2.0 + 1;\n",
    "\n",
    "# https://stackoverflow.com/questions/1291152/simple-way-to-calculate-median-with-mysql\n",
    "SELECT CAST(SUBSTRING_INDEX(SUBSTRING_INDEX(\n",
    " GROUP_CONCAT(total ORDER BY total SEPARATOR ','),\n",
    "  ',', 50/100 * COUNT(*) + 1), ',', -1) AS DECIMAL) AS `Median`\n",
    "FROM carts, orders\n",
    "WHERE carts.total <> 0 AND carts.cart_id = orders.cart_id;\n",
    "\n",
    "\n",
    "#median price\n",
    "set @ct := (select count(1) from products);\n",
    "set @row_id := 0;\n",
    "\n",
    "select avg(truc.price) as median\n",
    "from (select * from products order by products.price) as truc\n",
    "where (select @row_id := @row_id + 1 as machin) AND truc.price > 0\n",
    "between @ct/2.0 and @ct/2.0 + 1;"
   ]
  },
  {
   "cell_type": "markdown",
   "id": "74f6287a",
   "metadata": {},
   "source": [
    "### In this database, find ordered amount quartils"
   ]
  },
  {
   "cell_type": "code",
   "execution_count": null,
   "id": "c3965a5a",
   "metadata": {},
   "outputs": [],
   "source": [
    "# in orders\n",
    "SELECT CAST(SUBSTRING_INDEX(SUBSTRING_INDEX(\n",
    " GROUP_CONCAT(total ORDER BY total SEPARATOR ','),\n",
    "  ',', 25/100 * COUNT(*) + 1), ',', -1) AS DECIMAL) AS `Median`\n",
    "FROM carts, orders\n",
    "WHERE carts.total <> 0 AND carts.cart_id = orders.cart_id;\n",
    "\n",
    "SELECT CAST(SUBSTRING_INDEX(SUBSTRING_INDEX(\n",
    " GROUP_CONCAT(total ORDER BY total SEPARATOR ','),\n",
    "  ',', 75/100 * COUNT(*) + 1), ',', -1) AS DECIMAL) AS `Median`\n",
    "FROM carts, orders\n",
    "WHERE carts.total <> 0 AND carts.cart_id = orders.cart_id;"
   ]
  },
  {
   "cell_type": "markdown",
   "id": "1c368b67",
   "metadata": {},
   "source": [
    "### In this database, find max et min total amount order"
   ]
  },
  {
   "cell_type": "code",
   "execution_count": null,
   "id": "5c61245f",
   "metadata": {},
   "outputs": [],
   "source": [
    "SELECT MAX(total_amounts.amount_sum)\n",
    "FROM (\n",
    "\tSELECT C.customer_id, SUM(C.total) as amount_sum\n",
    "\tFROM carts as C, orders as O\n",
    "\tWHERE O.cart_id = C.cart_id\n",
    "\tGROUP BY C.customer_id\n",
    "\tORDER BY SUM(C.total) ) as total_amounts\n",
    "\n",
    "SELECT MIN(total_amounts.amount_sum)\n",
    "FROM (\n",
    "\tSELECT C.customer_id, SUM(C.total) as amount_sum\n",
    "\tFROM carts as C, orders as O\n",
    "\tWHERE O.cart_id = C.cart_id\n",
    "\tGROUP BY C.customer_id\n",
    "\tORDER BY SUM(C.total) ) as total_amounts"
   ]
  },
  {
   "cell_type": "markdown",
   "id": "0ca5b99b",
   "metadata": {},
   "source": [
    "### In this database, find max et min total quantity ordered"
   ]
  },
  {
   "cell_type": "code",
   "execution_count": null,
   "id": "62dac57a",
   "metadata": {},
   "outputs": [],
   "source": [
    "SELECT MAX(Ordered_Quantity.sum_quant)\n",
    "FROM (\n",
    "\tSELECT P.product_id, P.product_name, SUM(Joint.quantity) as sum_quant\n",
    "\tFROM \n",
    "\t\tcarts as C, \n",
    "\t\torders as O, \n",
    "\t\tcart_products as Joint, \n",
    "\t\tproducts as P\n",
    "\tWHERE \n",
    "\t\tO.cart_id = C.cart_id \n",
    "\t\tAND C.total > 0 \n",
    "\t\tAND C.cart_id = Joint.cart_id \n",
    "\t\tAND Joint.product_id = P.product_id\n",
    "\tGROUP BY \n",
    "\t\tP.product_name, \n",
    "\t\tP.product_id\n",
    "\tORDER BY \n",
    "\t\t-SUM(Joint.quantity) ) as Ordered_Quantity\n",
    "\n",
    "SELECT MIN(Ordered_Quantity.sum_quant)\n",
    "FROM (\n",
    "\tSELECT P.product_id, P.product_name, SUM(Joint.quantity) as sum_quant\n",
    "\tFROM \n",
    "\t\tcarts as C, \n",
    "\t\torders as O, \n",
    "\t\tcart_products as Joint, \n",
    "\t\tproducts as P\n",
    "\tWHERE \n",
    "\t\tO.cart_id = C.cart_id \n",
    "\t\tAND C.total > 0 \n",
    "\t\tAND C.cart_id = Joint.cart_id \n",
    "\t\tAND Joint.product_id = P.product_id\n",
    "\tGROUP BY \n",
    "\t\tP.product_name, \n",
    "\t\tP.product_id\n",
    "\tORDER BY \n",
    "\t\t-SUM(Joint.quantity) ) as Ordered_Quantity"
   ]
  },
  {
   "cell_type": "markdown",
   "id": "5fc06e2c",
   "metadata": {},
   "source": [
    "### In this database, find max and min price products."
   ]
  },
  {
   "cell_type": "code",
   "execution_count": null,
   "id": "8069764c",
   "metadata": {},
   "outputs": [],
   "source": [
    "SELECT MAX(P.price)\n",
    "FROM products as P;\n",
    "\n",
    "#This doesn't show the name an id... \n",
    "\n",
    "# writing MIN() in this query is actually useless, P.price alone would work\n",
    "SELECT P.product_id as p_id, P.product_name as p_name, MIN(P.price) as p_price\n",
    "FROM products as P\n",
    "GROUP BY p_id, p_name\n",
    "ORDER BY p_price\n",
    "LIMIT 1;\n",
    "\n",
    "#In this one we have id and name, the thing is: and the speed?\n",
    "# MIN is same speed execution MAX\n",
    "# only MAX: 0.000499 s \n",
    "# lot of informations: 0.000612 s (+22%)\n",
    "# a bit expected, when we want more infos the speed decreases"
   ]
  },
  {
   "cell_type": "markdown",
   "id": "18eb4a7b",
   "metadata": {},
   "source": [
    "# Introduce Windows Functions"
   ]
  },
  {
   "cell_type": "code",
   "execution_count": null,
   "id": "7cd17510",
   "metadata": {},
   "outputs": [],
   "source": [
    "#orders total amount along the carts involved in orders\n",
    "\n",
    "SELECT C.cart_id, SUM(C.total) OVER () cart_amounts\n",
    "FROM orders as O, carts as C\n",
    "WHERE C.cart_id = O.cart_id\n",
    "\n",
    "# customer former orders ranking with only ranks number 5 to 15\n",
    "SELECT * FROM (\n",
    "\tSELECT \n",
    "\t\tROW_NUMBER() OVER (\n",
    "\t\t\tORDER BY C.total DESC\n",
    "\t\t\t) ranking, \n",
    "\t\tCstm.customer_name, \n",
    "\t\tCstm.customer_id, \n",
    "\t\tC.cart_id, \n",
    "\t\tC.total\n",
    "\tFROM \n",
    "\t\torders as O, \n",
    "\t\tcarts as C, \n",
    "\t\tcustomers as Cstm\n",
    "\tWHERE C.cart_id = O.cart_id \n",
    "\t\tand Cstm.customer_id = C.customer_id ) as test_row\n",
    "WHERE ranking >= 5 AND ranking <= 15;\n",
    "\n"
   ]
  },
  {
   "cell_type": "markdown",
   "id": "1f2339e4",
   "metadata": {},
   "source": [
    "### Find the best amount spent by customer (max 1 order)"
   ]
  },
  {
   "cell_type": "code",
   "execution_count": null,
   "id": "f818e6dd",
   "metadata": {},
   "outputs": [],
   "source": [
    "WITH sub as (\n",
    "\tSELECT \n",
    "            Cstm.customer_name,\n",
    "            ROW_NUMBER() OVER (\n",
    "                PARTITION BY -C.total\n",
    "                ORDER BY C.total) row_num, \n",
    "            C.total\n",
    "        FROM \n",
    "            customers as Cstm\n",
    "                INNER JOIN carts as C\n",
    "                ON Cstm.customer_id = C.customer_id\n",
    "                    INNER JOIN orders as O\n",
    "                    ON C.cart_id = O.cart_id\n",
    "\t\tWHERE \n",
    "\t\t\tC.total > 0)\n",
    "SELECT \n",
    "    customer_name,\n",
    "    total,\n",
    "    row_num\n",
    "FROM \n",
    "\tsub\n",
    "WHERE \n",
    "    row_num = 1;"
   ]
  },
  {
   "cell_type": "markdown",
   "id": "d680cf40",
   "metadata": {},
   "source": [
    "### Find all pending carts accumulated values"
   ]
  },
  {
   "cell_type": "code",
   "execution_count": null,
   "id": "fb32c7b3",
   "metadata": {},
   "outputs": [],
   "source": [
    "# carts pendings (https://www.tutorialspoint.com/what-is-the-equivalent-of-except-in-mysql)\n",
    "SELECT \n",
    "\tC.cart_id\n",
    "FROM \n",
    "\tcarts as C\n",
    "WHERE \n",
    "\tC.cart_id NOT IN (\n",
    "\t\tSELECT O.cart_id\n",
    "\t\tFROM orders as O);\n",
    "\n",
    "# with EXCEPT (that dosn't work in  MySQL)\n",
    "    SELECT C.cart_id\n",
    "    FROM carts as C\n",
    "EXCEPT\n",
    "\tSELECT O.cart_id\n",
    "\tFROM orders as O\n",
    "    \n",
    "# order the carts (not ordered yet) by pending amount, with the total who's pending\n",
    "SELECT \n",
    "\tC.cart_id,\n",
    "    C.total,\n",
    "    SUM(C.total) OVER () AS amount_pending\n",
    "FROM \n",
    "\tcarts as C\n",
    "WHERE \n",
    "\tC.cart_id NOT IN (\n",
    "\t\tSELECT O.cart_id\n",
    "\t\tFROM orders as O)\n",
    "ORDER BY total DESC"
   ]
  },
  {
   "cell_type": "markdown",
   "id": "29643124",
   "metadata": {},
   "source": [
    "### For customers who ordered, display spending total amounts ranking by deciles"
   ]
  },
  {
   "cell_type": "code",
   "execution_count": null,
   "id": "93ce8ff5",
   "metadata": {},
   "outputs": [],
   "source": [
    "#https://stackoverflow.com/questions/40594466/can-i-group-by-in-sql-query-with-window-function\n",
    "WITH spendings AS (\n",
    "\tSELECT \n",
    "\t\tC.customer_name, \n",
    "\t\tMAX(SUM(Ct.total)) OVER (PARTITION BY C.customer_id ) AS order_per_cust\n",
    "    FROM \n",
    "\t\tcustomers as C,\n",
    "\t\tcarts as Ct,\n",
    "        orders AS O\n",
    "\tWHERE\n",
    "\t\tC.customer_id = Ct.customer_id\n",
    "        AND Ct.cart_id = O.cart_id\n",
    "\tGROUP BY C.customer_id\n",
    "    ORDER BY order_per_cust DESC\n",
    ")\n",
    "SELECT \n",
    "    spendings.customer_name, \n",
    "    order_per_cust, \n",
    "    NTILE (10) OVER ( ORDER BY  order_per_cust DESC) AS deciles\n",
    "FROM spendings"
   ]
  },
  {
   "cell_type": "markdown",
   "id": "2ba5845b",
   "metadata": {},
   "source": [
    "### Find per customer, the transactions ranks"
   ]
  },
  {
   "cell_type": "code",
   "execution_count": null,
   "id": "cd048153",
   "metadata": {},
   "outputs": [],
   "source": [
    "SELECT C.customer_name, Ct.total, RANK () OVER (ORDER BY Ct.total DESC ) as amount_rank\n",
    "FROM\n",
    "\tcustomers as C,\n",
    "    carts AS Ct,\n",
    "    orders AS O\n",
    "WHERE \n",
    "    C.customer_id = Ct.customer_id \n",
    "    AND Ct.cart_id = O.cart_id"
   ]
  },
  {
   "cell_type": "markdown",
   "id": "d52d1122",
   "metadata": {},
   "source": [
    "### Let's rank ordered products by quantity send"
   ]
  },
  {
   "cell_type": "code",
   "execution_count": null,
   "id": "069deef7",
   "metadata": {},
   "outputs": [],
   "source": [
    "SELECT P.product_id, P.product_name, SUM(Joint.quantity) as sum_quant_send, RANK () OVER ( ORDER BY SUM(Joint.quantity) DESC) AS rank_quantities\n",
    "FROM \n",
    "\tcarts as C, \n",
    "\torders as O, \n",
    "\tcart_products as Joint, \n",
    "\tproducts as P\n",
    "WHERE \n",
    "\tO.cart_id = C.cart_id \n",
    "\tAND C.total > 0 \n",
    "\tAND C.cart_id = Joint.cart_id \n",
    "\tAND Joint.product_id = P.product_id\n",
    "GROUP BY \n",
    "\tP.product_name, \n",
    "\tP.product_id\n",
    "ORDER BY \n",
    "\t-SUM(Joint.quantity)"
   ]
  },
  {
   "cell_type": "markdown",
   "id": "a1bd90e2",
   "metadata": {},
   "source": [
    "### Get the average order per group of customer total spending"
   ]
  },
  {
   "cell_type": "code",
   "execution_count": null,
   "id": "6cbcac8d",
   "metadata": {},
   "outputs": [],
   "source": [
    "SELECT \n",
    "\tC.customer_name, \n",
    "    Ct.total,\n",
    "\tAVG(Ct.total) OVER (PARTITION BY C.customer_id ORDER BY C.customer_id ) AS avg_spending_per_cust\n",
    "FROM \n",
    "\tcustomers as C,\n",
    "\tcarts as Ct,\n",
    "    orders AS O\n",
    "WHERE\n",
    "\tC.customer_id = Ct.customer_id\n",
    "    AND Ct.cart_id = O.cart_id\n",
    "ORDER BY avg_spending_per_cust DESC\n"
   ]
  },
  {
   "cell_type": "markdown",
   "id": "3299e155",
   "metadata": {},
   "source": [
    "# Mix all queries"
   ]
  },
  {
   "cell_type": "markdown",
   "id": "2d358274",
   "metadata": {},
   "source": [
    "### Temporary column: Product's price classes (low < 33 < medium < 66 < high)"
   ]
  },
  {
   "cell_type": "code",
   "execution_count": null,
   "id": "ec7d55cd",
   "metadata": {},
   "outputs": [],
   "source": [
    "#https://datatofish.com/case-statement-sql-server/\n",
    "SELECT \n",
    "\tP.product_id,\n",
    "    P.product_name, \n",
    "    P.price, \n",
    "    CASE WHEN P.price < 33 THEN \"Low\"\n",
    "\t\tWHEN P.price > 66 THEN \"High\"\n",
    "        ELSE \"Medium\"\n",
    "        END AS products_cat\n",
    "FROM products AS P\n",
    "ORDER BY P.price"
   ]
  },
  {
   "cell_type": "markdown",
   "id": "478c4be5",
   "metadata": {},
   "source": [
    "### Find the amount spend per customer"
   ]
  },
  {
   "cell_type": "code",
   "execution_count": null,
   "id": "8daea0a5",
   "metadata": {},
   "outputs": [],
   "source": [
    "WITH u_cat as (\n",
    "\tSELECT \n",
    "\t\tP.product_id,\n",
    "\t\tP.product_name, \n",
    "\t\tP.price, \n",
    "\t\tCASE WHEN P.price < 33 THEN \"Low\"\n",
    "\t\t\tWHEN P.price > 66 THEN \"High\"\n",
    "\t\t\tELSE \"Medium\"\n",
    "\t\t\tEND AS products_cat\n",
    "\tFROM products AS P\n",
    "    ),\n",
    "\tjoin_table AS (\n",
    "\tSELECT\n",
    "\t\t\n",
    "\t\tC.customer_name, \n",
    "        P.product_id, \n",
    "        P.product_name, \n",
    "        P.price, \n",
    "        Cp.quantity, \n",
    "        P.products_cat, \n",
    "        Ct.cart_id,\n",
    "        O.order_id,\n",
    "        Ct.total\n",
    "\tFROM \n",
    "\t\tu_cat as P,\n",
    "\t\tcart_products as Cp,\n",
    "\t\tcarts as Ct,\n",
    "\t\tcustomers as C,\n",
    "\t\torders as O\n",
    "\tWHERE\n",
    "\t\tCt.cart_id = O.order_id\n",
    "\t\tand C.customer_id = Ct.customer_id\n",
    "\t\tand P.product_id = Cp.product_id\n",
    "\t\tand Cp.cart_id = Ct.cart_id\n",
    "\t\t)\n",
    "SELECT \n",
    "\tjoin_table.customer_name,\n",
    "    join_table.order_id, \n",
    "    join_table.total, SUM(join_table.total) OVER (PARTITION BY join_table.customer_name) as amount_per_cust\n",
    "FROM join_table\n",
    "GROUP BY join_table.order_id"
   ]
  },
  {
   "cell_type": "markdown",
   "id": "ed34dac4",
   "metadata": {},
   "source": [
    "### Find the most ordered categories"
   ]
  },
  {
   "cell_type": "code",
   "execution_count": null,
   "id": "f12ebc5b",
   "metadata": {},
   "outputs": [],
   "source": [
    "# qt_prd_ord quantity per product ordered, price_prod_cat to make product categories\n",
    "WITH qt_prd_ord AS (\n",
    "\tSELECT P.product_id, MAX(SUM(Cp.quantity)) OVER (PARTITION BY P.product_id ORDER BY P.product_id) as ordered_prod\n",
    "\tFROM\n",
    "\t\tcarts as Ct,\n",
    "\t\torders as O,\n",
    "\t\tcart_products as Cp,\n",
    "\t\tproducts as P\n",
    "\tWHERE\n",
    "\t\tCt.cart_id = O.cart_id\n",
    "\t\tand P.product_id = Cp.product_id\n",
    "\t\tand Cp.cart_id = Ct.cart_id\n",
    "\tGROUP BY\n",
    "\t\tP.product_id\n",
    "\tORDER BY\n",
    "\t\tordered_prod\n",
    "\t),\n",
    "\n",
    "    price_prod_cat as (\n",
    "    SELECT \n",
    "\tP.product_id,\n",
    "    P.product_name, \n",
    "    P.price, \n",
    "    CASE WHEN P.price < 33 THEN \"Low\"\n",
    "\t\tWHEN P.price > 66 THEN \"High\"\n",
    "        ELSE \"Medium\"\n",
    "        END AS products_cat\n",
    "\tFROM products AS P\n",
    "\tORDER BY P.price\n",
    "    )\n",
    "    \n",
    "SELECT price_prod_cat.product_id, price_prod_cat.product_name, price_prod_cat.price, price_prod_cat.products_cat,  p_id_qt.ordered_prod\n",
    "FROM \n",
    "\tqt_prd_ord,\n",
    "    price_prod_cat\n",
    "WHERE\n",
    "\tqt_prd_ord.product_id = price_prod_cat.product_id\n",
    "ORDER BY \n",
    "\tqt_prd_ord.ordered_prod DESC\n",
    "    \n",
    "    \n",
    "-- join  version ?\n",
    "\n",
    "-- sub query version ?\n",
    "\n",
    "# ordered amount and total quantities per customer ?"
   ]
  },
  {
   "cell_type": "markdown",
   "id": "4efe3c8e",
   "metadata": {},
   "source": [
    "### Display the total profits per category "
   ]
  },
  {
   "cell_type": "code",
   "execution_count": null,
   "id": "6155b2a4",
   "metadata": {},
   "outputs": [],
   "source": [
    "# profits (from products, customers): 5491\n",
    "SELECT P.product_id, Ct.cart_id, O.order_id, P.price, Cp.quantity, (P.price*Cp.quantity), SUM(P.price*Cp.quantity) OVER () as prof_prod \n",
    "FROM\n",
    "\tcarts as Ct,\n",
    "    cart_products as Cp,\n",
    "\tproducts as P,\n",
    "\torders as O \n",
    "WHERE\n",
    "\tP.product_id = Cp.product_id\n",
    "    and Cp.cart_id = Ct.cart_id\n",
    "    and Ct.cart_id = O.cart_id\n",
    "    \n",
    "SELECT DISTINCT C.customer_name, Ct.cart_id, O.order_id, Ct.total, SUM(Ct.total) OVER () as prof_cust\n",
    "\tFROM\n",
    "\t\tcustomers as C,\n",
    "\t\tcarts as Ct,\n",
    "\t\torders as O    \n",
    "\tWHERE\n",
    "\t\tC.customer_id = Ct.customer_id\n",
    "\t\tAnd Ct.cart_id = O.cart_id\n",
    "\tORDER BY\n",
    "\t\tC.customer_name"
   ]
  },
  {
   "cell_type": "code",
   "execution_count": null,
   "id": "3ad477f8",
   "metadata": {},
   "outputs": [],
   "source": [
    "# amount spend per order, also the price cat\n",
    "WITH am_per_ord as (\n",
    "\tSELECT C.customer_name, Ct.cart_id, O.order_id, Ct.total\n",
    "\tFROM\n",
    "\t\tcustomers as C,\n",
    "\t\tcarts as Ct,\n",
    "\t\torders as O    \n",
    "\tWHERE\n",
    "\t\tC.customer_id = Ct.customer_id\n",
    "\t\tAnd Ct.cart_id = O.cart_id\n",
    "\tORDER BY\n",
    "\t\tC.customer_name\n",
    "\t\t),\n",
    "\tprice_prod_cat as (\n",
    "    SELECT \n",
    "\tP.product_id,\n",
    "    P.product_name, \n",
    "    P.price, \n",
    "    CASE WHEN P.price < 33 THEN \"Low\"\n",
    "\t\tWHEN P.price > 66 THEN \"High\"\n",
    "        ELSE \"Medium\"\n",
    "        END AS products_cat\n",
    "\tFROM products AS P\n",
    "\tORDER BY P.price\n",
    "    )\n",
    "SELECT am_per_ord.customer_name, \n",
    "\n",
    "# total amount (value) per customer: 5491\n",
    "SELECT C.customer_name, Ct.cart_id, O.order_id, Ct.total, SUM(Ct.total) OVER (PARTITION BY C.customer_name ) as ord_p_c\n",
    "\tFROM\n",
    "\t\tcustomers as C,\n",
    "\t\tcarts as Ct,\n",
    "\t\torders as O    \n",
    "\tWHERE\n",
    "\t\tC.customer_id = Ct.customer_id\n",
    "\t\tAnd Ct.cart_id = O.cart_id\n",
    "        \n",
    "SELECT DISTINCT C.customer_name, Ct.cart_id, O.order_id, Ct.total, SUM(Ct.total) OVER () as prof\n",
    "\tFROM\n",
    "\t\tcustomers as C,\n",
    "\t\tcarts as Ct,\n",
    "\t\torders as O    \n",
    "\tWHERE\n",
    "\t\tC.customer_id = Ct.customer_id\n",
    "\t\tAnd Ct.cart_id = O.cart_id\n",
    "\tORDER BY\n",
    "\t\tC.customer_name\n",
    "\n",
    "#total profits per products, per category, total quantity per product send, product profit ranks, total profits per category, total money spend\n",
    "WITH  sum_cat as (\n",
    "SELECT P.product_id,Ct.cart_id, O.order_id,  P.price, P.products_cat, Cp.quantity, (P.price*Cp.quantity), SUM(P.price*Cp.quantity) OVER (PARTITION BY product_id) as sum_profit_prod \n",
    "FROM\n",
    "\tcarts as Ct,\n",
    "    cart_products as Cp,\n",
    "\t( SELECT\n",
    "\t\tP.product_id,\n",
    "\t\tP.product_name, \n",
    "\t\tP.price, \n",
    "        \n",
    "\t\tCASE WHEN P.price < 33 THEN \"Low\"\n",
    "\t\t\tWHEN P.price > 66 THEN \"High\"\n",
    "\t\t\tELSE \"Medium\"\n",
    "\t\t\tEND AS products_cat\n",
    "\tFROM products AS P\n",
    "\tORDER BY P.price) as P,\n",
    "\torders as O\n",
    "WHERE\n",
    "\tP.product_id = Cp.product_id\n",
    "    and Cp.cart_id = Ct.cart_id\n",
    "    and Ct.cart_id = O.cart_id\n",
    " ), qt_prd_ord AS (\n",
    "\tSELECT P.product_id, MAX(SUM(Cp.quantity)) OVER (PARTITION BY P.product_id ORDER BY P.product_id) as ordered_prod\n",
    "\tFROM\n",
    "\t\tcarts as Ct,\n",
    "\t\torders as O,\n",
    "\t\tcart_products as Cp,\n",
    "\t\tproducts as P\n",
    "\tWHERE\n",
    "\t\tCt.cart_id = O.cart_id\n",
    "\t\tand P.product_id = Cp.product_id\n",
    "\t\tand Cp.cart_id = Ct.cart_id\n",
    "\tGROUP BY\n",
    "\t\tP.product_id\n",
    "\tORDER BY\n",
    "\t\tordered_prod\n",
    "\t)\n",
    "SELECT \n",
    "\tsum_cat.product_id, \n",
    "    sum_cat.products_cat, \n",
    "    sum_cat.sum_profit_prod as tot_prof_prod, \n",
    "    qt_prd_ord.ordered_prod,\n",
    "    RANK () OVER (ORDER BY sum_cat.sum_profit_prod DESC ) as amount_ord_rank,\n",
    "    SUM(sum_cat.sum_profit_prod) OVER (PARTITION BY sum_cat.products_cat) as cat_tot_pro,\n",
    "    SUM(sum_cat.sum_profit_prod) OVER () as sum_prof_prod\n",
    "FROM \n",
    "\tsum_cat,\n",
    "    qt_prd_ord\n",
    "WHERE\n",
    "\tqt_prd_ord.product_id = sum_cat.product_id\n",
    "GROUP BY \n",
    "\tsum_cat.product_id, \n",
    "    sum_cat.products_cat, \n",
    "    tot_prof_prod\n",
    "ORDER BY \n",
    "    tot_prof_prod DESC\n",
    "\n",
    "#https://stackoverflow.com/questions/41887460/select-list-is-not-in-group-by-clause-and-contains-nonaggregated-column-inc\n",
    "#OR simply include all columns in the GROUP BY clause that was specified by the SELECT statement. The sql_mode can be left enabled.\n"
   ]
  }
 ],
 "metadata": {
  "kernelspec": {
   "display_name": "Python 3 (ipykernel)",
   "language": "python",
   "name": "python3"
  },
  "language_info": {
   "codemirror_mode": {
    "name": "ipython",
    "version": 3
   },
   "file_extension": ".py",
   "mimetype": "text/x-python",
   "name": "python",
   "nbconvert_exporter": "python",
   "pygments_lexer": "ipython3",
   "version": "3.9.7"
  }
 },
 "nbformat": 4,
 "nbformat_minor": 5
}
