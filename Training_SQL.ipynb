{
 "cells": [
  {
   "cell_type": "markdown",
   "id": "fb104fff",
   "metadata": {},
   "source": [
    "# Python training SQL"
   ]
  },
  {
   "cell_type": "markdown",
   "id": "a906fb45",
   "metadata": {},
   "source": [
    "Some basic questions:\n",
    "- In this database, show the customers, products, finally the orders. \n",
    "- Display customers that put stuff in their c.rts, who ordered, pending carts.\n",
    "\n",
    "Operations:\n",
    "- Display the total number of customers, products and orders.\n",
    "- In this database, show the number of pending carts. \n",
    "- Orders amount (let's change the times, 1 month)\n",
    "- Find the t.p 5 c.st.m..s, pr.d.cts.\n",
    "- F.nd the fl.p 5 c.st.m.rs and pr.d.cts.\n",
    "- Find the av.r.ge t.t.l ord.rs, pr.d.cts pr.ce.\n",
    "- F.nd the m.d..n ord.r, pr.d.ct pr.ce.\n",
    "- F.nd qu.rt.l.s\n",
    "- \n",
    "- "
   ]
  },
  {
   "cell_type": "markdown",
   "id": "14c67a1a",
   "metadata": {},
   "source": [
    "### In this database, show the customers, products, finally the orders. "
   ]
  },
  {
   "cell_type": "code",
   "execution_count": null,
   "id": "21d89c8e",
   "metadata": {},
   "outputs": [],
   "source": [
    "USE `Test_SQL`;\n",
    "\n",
    "SELECT * FROM customers;\n",
    "SELECT * FROM products;\n",
    "SELECT * FROM orders; "
   ]
  },
  {
   "cell_type": "markdown",
   "id": "5ea8990b",
   "metadata": {},
   "source": [
    "### In this database, display customers who ordered,  also with pending carts."
   ]
  },
  {
   "cell_type": "code",
   "execution_count": null,
   "id": "97b975f8",
   "metadata": {},
   "outputs": [],
   "source": [
    "USE `Test_SQL`;\n",
    "\n",
    "SELECT DISTINCT C.customer_id FROM carts as C; -- with carts\n",
    "SELECT C.customer_id FROM customers as C; -- the total\n",
    "\n",
    "SELECT DISTINCT C.customer_id, count(O.cart_id) -- every customers, counting the number of times, that ordered\n",
    "FROM orders as O \n",
    "OUTER JOIN carts as C \n",
    "ON C.cart_id = O.cart_id\n",
    "GROUP BY C.customer_id\n",
    "ORDER BY C.customer_id;\n",
    "\n",
    "SELECT DISTINCT C.customer_id, count(C.cart_id) -- all carts\n",
    "FROM carts as C \n",
    "GROUP BY C.customer_id\n",
    "ORDER BY C.customer_id;\n",
    "\n",
    "SELECT DISTINCT C.customer_id, count(C.cart_id) -- the p.nd.ng c.rts\n",
    "FROM carts as C \n",
    "WHERE C.total = 0\n",
    "GROUP BY C.customer_id\n",
    "ORDER BY C.customer_id;"
   ]
  },
  {
   "cell_type": "markdown",
   "id": "7c871106",
   "metadata": {},
   "source": [
    "# Calculations"
   ]
  },
  {
   "cell_type": "markdown",
   "id": "46bf8015",
   "metadata": {},
   "source": [
    "### In this database, display the total number of customers, products and orders."
   ]
  },
  {
   "cell_type": "code",
   "execution_count": null,
   "id": "42ec1e1b",
   "metadata": {},
   "outputs": [],
   "source": [
    "USE `Test_SQL`;\n",
    "\n",
    "SELECT count(C.customer_id) FROM customers as C;\n",
    "SELECT count(O.order_id) FROM orders as O;\n",
    "SELECT count(P.product_id) FROM products as P;"
   ]
  },
  {
   "cell_type": "markdown",
   "id": "542c2f6c",
   "metadata": {},
   "source": [
    "### In this database, show the number of pending carts. "
   ]
  },
  {
   "cell_type": "code",
   "execution_count": null,
   "id": "17adf7f5",
   "metadata": {},
   "outputs": [],
   "source": [
    "-- all pending carts\n",
    "WITH  pending_carts AS \n",
    "\t(SELECT DISTINCT C.customer_id, count(C.cart_id) as cart_count\n",
    "\tFROM carts as C \n",
    "\tWHERE C.total = 0\n",
    "\tGROUP BY C.customer_id\n",
    "\tORDER BY C.customer_id) \n",
    "\t\tSELECT sum(cart_count)\n",
    "        FROM pending_carts;\n"
   ]
  },
  {
   "cell_type": "markdown",
   "id": "6e9a59f6",
   "metadata": {},
   "source": [
    "### In this database, display the total orders amount (let's change the times, 1 month)"
   ]
  },
  {
   "cell_type": "code",
   "execution_count": null,
   "id": "7dc92a1a",
   "metadata": {},
   "outputs": [],
   "source": [
    "SELECT sum(C.total) \n",
    "FROM carts as C, orders as O \n",
    "WHERE C.total > 0 AND O.cart_id = C.cart_id;"
   ]
  },
  {
   "cell_type": "markdown",
   "id": "7701f6d8",
   "metadata": {},
   "source": [
    "### In this database, find the top 5 customers (ord.r.d by sp.nd.ng am..nt)"
   ]
  },
  {
   "cell_type": "code",
   "execution_count": null,
   "id": "53db7b56",
   "metadata": {},
   "outputs": [],
   "source": [
    "SELECT C.customer_id, SUM(C.total)\n",
    "FROM carts as C, orders as O\n",
    "WHERE O.cart_id = C.cart_id\n",
    "GROUP BY C.customer_id\n",
    "ORDER BY -SUM(C.total)\n",
    "LIMIT 5;"
   ]
  },
  {
   "cell_type": "markdown",
   "id": "e9aa75e8",
   "metadata": {},
   "source": [
    "### In this database find the flop 5 customers (ord.r.d by sp.nd.ng am..nt)"
   ]
  },
  {
   "cell_type": "code",
   "execution_count": null,
   "id": "734128cf",
   "metadata": {},
   "outputs": [],
   "source": [
    "SELECT C.customer_id, SUM(C.total)\n",
    "FROM carts as C, orders as O\n",
    "WHERE O.cart_id = C.cart_id\n",
    "GROUP BY C.customer_id\n",
    "ORDER BY SUM(C.total) -- delete the \"-\"\n",
    "LIMIT 5;"
   ]
  },
  {
   "cell_type": "markdown",
   "id": "3b72688f",
   "metadata": {},
   "source": [
    "### In this database, find the top 5 products. (ordered m.st, qu.nt.ty)"
   ]
  },
  {
   "cell_type": "code",
   "execution_count": null,
   "id": "cb3bfb45",
   "metadata": {},
   "outputs": [],
   "source": [
    "# What is the f.st.st meth.d?\n",
    "\n",
    "SELECT P.product_id, P.product_name, SUM(Joint.quantity)\n",
    "FROM \n",
    "    carts as C, \n",
    "    orders as O, \n",
    "    cart_products as Joint, \n",
    "    products as P\n",
    "WHERE \n",
    "    O.cart_id = C.cart_id \n",
    "    AND C.total > 0 \n",
    "    AND C.cart_id = Joint.cart_id \n",
    "    AND Joint.product_id = P.product_id\n",
    "GROUP BY \n",
    "    P.product_name, \n",
    "    P.product_id\n",
    "ORDER BY \n",
    "    -SUM(Joint.quantity)\n",
    "LIMIT 5;\n",
    "\n",
    "# Tim.ng (ex.cut..n t.me): 0.00198603 s\n",
    "\n",
    "SELECT P.product_id, P.product_name, SUM(Joint.quantity)\n",
    "\tFROM products as P\n",
    "\tINNER JOIN cart_products as Joint\n",
    "    ON Joint.product_id = P.product_id\n",
    "\t\tINNER JOIN carts as C\n",
    "        ON C.cart_id = Joint.cart_id\n",
    "\t\t\tINNER JOIN orders as O\n",
    "            ON O.cart_id = C.cart_id\n",
    "\t\t\t\tWHERE C.total > 0\n",
    "                GROUP BY P.product_name, P.product_id\n",
    "\t\t\t\tORDER BY -SUM(Joint.quantity)\n",
    "\t\t\t\tLIMIT 5;\n",
    "                \n",
    "# Tim.ng (ex.cut..n t.me): 0.00216079 s (time +8,79% )\n"
   ]
  },
  {
   "cell_type": "markdown",
   "id": "b52dab64",
   "metadata": {},
   "source": [
    "### In this database, find the average total orders, pr.d.cts pr.ce."
   ]
  },
  {
   "cell_type": "code",
   "execution_count": null,
   "id": "2b1eedef",
   "metadata": {},
   "outputs": [],
   "source": [
    "SELECT C.customer_id, AVG(C.total)\n",
    "FROM carts as C, orders as O\n",
    "WHERE O.cart_id = C.cart_id AND C.total > 0\n",
    "GROUP BY C.customer_id\n",
    "ORDER BY -AVG(C.total);\n",
    "\n",
    "SELECT AVG(P.price)\n",
    "FROM products as P"
   ]
  },
  {
   "cell_type": "markdown",
   "id": "891d0b2a",
   "metadata": {},
   "source": [
    "### In this database, find the median order, product price."
   ]
  },
  {
   "cell_type": "code",
   "execution_count": null,
   "id": "94344351",
   "metadata": {},
   "outputs": [],
   "source": [
    "#https://www.sisense.com/blog/medians-in-sql/\n",
    "set @ct := (select count(1) from carts);\n",
    "set @row_id := 0;\n",
    "\n",
    "select avg(truc.total) as median\n",
    "from (select * from carts order by carts.total) as truc, orders\n",
    "where (select @row_id := @row_id + 1 as machin) AND truc.total > 0 AND truc.cart_id = orders.cart_id\n",
    "between @ct/2.0 and @ct/2.0 + 1;\n",
    "\n",
    "# https://stackoverflow.com/questions/1291152/simple-way-to-calculate-median-with-mysql\n",
    "SELECT CAST(SUBSTRING_INDEX(SUBSTRING_INDEX(\n",
    " GROUP_CONCAT(total ORDER BY total SEPARATOR ','),\n",
    "  ',', 50/100 * COUNT(*) + 1), ',', -1) AS DECIMAL) AS `Median`\n",
    "FROM carts, orders\n",
    "WHERE carts.total <> 0 AND carts.cart_id = orders.cart_id;\n",
    "\n",
    "\n",
    "#med..n pr.ce\n",
    "set @ct := (select count(1) from products);\n",
    "set @row_id := 0;\n",
    "\n",
    "select avg(truc.price) as median\n",
    "from (select * from products order by products.price) as truc\n",
    "where (select @row_id := @row_id + 1 as machin) AND truc.price > 0\n",
    "between @ct/2.0 and @ct/2.0 + 1;"
   ]
  },
  {
   "cell_type": "markdown",
   "id": "c93ce25c",
   "metadata": {},
   "source": [
    "### In this database, find quartils"
   ]
  },
  {
   "cell_type": "code",
   "execution_count": null,
   "id": "bcdc2167",
   "metadata": {},
   "outputs": [],
   "source": [
    "# in orders\n",
    "SELECT CAST(SUBSTRING_INDEX(SUBSTRING_INDEX(\n",
    " GROUP_CONCAT(total ORDER BY total SEPARATOR ','),\n",
    "  ',', 25/100 * COUNT(*) + 1), ',', -1) AS DECIMAL) AS `Median`\n",
    "FROM carts, orders\n",
    "WHERE carts.total <> 0 AND carts.cart_id = orders.cart_id;\n",
    "\n",
    "SELECT CAST(SUBSTRING_INDEX(SUBSTRING_INDEX(\n",
    " GROUP_CONCAT(total ORDER BY total SEPARATOR ','),\n",
    "  ',', 75/100 * COUNT(*) + 1), ',', -1) AS DECIMAL) AS `Median`\n",
    "FROM carts, orders\n",
    "WHERE carts.total <> 0 AND carts.cart_id = orders.cart_id;\n",
    "\n",
    "\n"
   ]
  }
 ],
 "metadata": {
  "kernelspec": {
   "display_name": "Python 3 (ipykernel)",
   "language": "python",
   "name": "python3"
  },
  "language_info": {
   "codemirror_mode": {
    "name": "ipython",
    "version": 3
   },
   "file_extension": ".py",
   "mimetype": "text/x-python",
   "name": "python",
   "nbconvert_exporter": "python",
   "pygments_lexer": "ipython3",
   "version": "3.9.7"
  }
 },
 "nbformat": 4,
 "nbformat_minor": 5
}
