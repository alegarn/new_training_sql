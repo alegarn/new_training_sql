{
 "cells": [
  {
   "cell_type": "markdown",
   "id": "fb104fff",
   "metadata": {},
   "source": [
    "# Python training SQL"
   ]
  },
  {
   "cell_type": "markdown",
   "id": "a906fb45",
   "metadata": {},
   "source": [
    "Some basic questions:\n",
    "- In this database, show the customers, products, finally the orders. \n",
    "- Display customers that put stuff in their c.rts, who ordered, pending carts.\n",
    "\n",
    "Operations:\n",
    "- Display the total number of customers, products and orders.\n",
    "- In this database, show the number of pending carts. \n",
    "- Orders amount (let's change the times, 1 month)\n",
    "- Find the t.p 5 c.st.m..s, pr.d.cts.\n",
    "- F.nd the fl.p 5 c.st.m.rs and pr.d.cts.\n",
    "- Find the av.r.ge t.t.l ord.rs, pr.d.cts pr.ce.\n",
    "- F.nd the m.d..n ord.r, pr.d.ct pr.ce.\n",
    "- F.nd qu.rt.l.s\n",
    "- rows number\n",
    "- plus max et min\n",
    "\n",
    "Compare JOIN and SD.B-Q..r..s\n",
    "- INNER and EXCEPT\n",
    "- INTERSECT\n",
    "- UNION (.LL)\n",
    "\n",
    "Windows functions:\n",
    "- https://www.sqltutorial.org/sql-window-functions/sql-ntile/\n",
    "- orders total amount along the carts involved in orders\n",
    "- all pending carts acc.m.l.t.d v.l..s\n",
    "- https://www.mysqltutorial.org/mysql-window-functions/mysql-row_number-function/\n",
    "- https://www.sqltutorial.org/sql-window-functions/"
   ]
  },
  {
   "cell_type": "markdown",
   "id": "14c67a1a",
   "metadata": {},
   "source": [
    "### In this database, show the customers, products, finally the orders. "
   ]
  },
  {
   "cell_type": "code",
   "execution_count": null,
   "id": "21d89c8e",
   "metadata": {},
   "outputs": [],
   "source": [
    "USE `Test_SQL`;\n",
    "\n",
    "SELECT * FROM customers;\n",
    "SELECT * FROM products;\n",
    "SELECT * FROM orders; "
   ]
  },
  {
   "cell_type": "markdown",
   "id": "5ea8990b",
   "metadata": {},
   "source": [
    "### In this database, display customers who ordered,  also with pending carts."
   ]
  },
  {
   "cell_type": "code",
   "execution_count": null,
   "id": "97b975f8",
   "metadata": {},
   "outputs": [],
   "source": [
    "USE `Test_SQL`;\n",
    "\n",
    "SELECT DISTINCT C.customer_id FROM carts as C; -- with carts\n",
    "SELECT C.customer_id FROM customers as C; -- the total\n",
    "\n",
    "SELECT DISTINCT C.customer_id, count(O.cart_id) -- every customers, counting the number of times, that ordered\n",
    "FROM orders as O \n",
    "OUTER JOIN carts as C \n",
    "ON C.cart_id = O.cart_id\n",
    "GROUP BY C.customer_id\n",
    "ORDER BY C.customer_id;\n",
    "\n",
    "SELECT DISTINCT C.customer_id, count(C.cart_id) -- all carts\n",
    "FROM carts as C \n",
    "GROUP BY C.customer_id\n",
    "ORDER BY C.customer_id;\n",
    "\n",
    "SELECT DISTINCT C.customer_id, count(C.cart_id) -- the p.nd.ng c.rts\n",
    "FROM carts as C \n",
    "WHERE C.total = 0\n",
    "GROUP BY C.customer_id\n",
    "ORDER BY C.customer_id;"
   ]
  },
  {
   "cell_type": "markdown",
   "id": "34e17992",
   "metadata": {},
   "source": [
    "# Calculations"
   ]
  },
  {
   "cell_type": "markdown",
   "id": "51314087",
   "metadata": {},
   "source": [
    "### In this database, display the total number of customers, products and orders."
   ]
  },
  {
   "cell_type": "code",
   "execution_count": null,
   "id": "11b7cafe",
   "metadata": {},
   "outputs": [],
   "source": [
    "USE `Test_SQL`;\n",
    "\n",
    "SELECT count(C.customer_id) FROM customers as C;\n",
    "SELECT count(O.order_id) FROM orders as O;\n",
    "SELECT count(P.product_id) FROM products as P;"
   ]
  },
  {
   "cell_type": "markdown",
   "id": "542c2f6c",
   "metadata": {},
   "source": [
    "### In this database, show the number of pending carts. "
   ]
  },
  {
   "cell_type": "code",
   "execution_count": null,
   "id": "17adf7f5",
   "metadata": {},
   "outputs": [],
   "source": [
    "-- all pending carts\n",
    "WITH  pending_carts AS \n",
    "\t(SELECT DISTINCT C.customer_id, count(C.cart_id) as cart_count\n",
    "\tFROM carts as C \n",
    "\tWHERE C.total = 0\n",
    "\tGROUP BY C.customer_id\n",
    "\tORDER BY C.customer_id) \n",
    "\t\tSELECT sum(cart_count)\n",
    "        FROM pending_carts;\n"
   ]
  },
  {
   "cell_type": "markdown",
   "id": "2fe1fd16",
   "metadata": {},
   "source": [
    "### In this database, display the total orders amount (let's change the times, 1 month)"
   ]
  },
  {
   "cell_type": "code",
   "execution_count": null,
   "id": "8462203b",
   "metadata": {},
   "outputs": [],
   "source": [
    "SELECT sum(C.total) \n",
    "FROM carts as C, orders as O \n",
    "WHERE C.total > 0 AND O.cart_id = C.cart_id;"
   ]
  },
  {
   "cell_type": "markdown",
   "id": "fc3fd05d",
   "metadata": {},
   "source": [
    "### In this database, find the top 5 customers (ord.r.d by sp.nd.ng am..nt)"
   ]
  },
  {
   "cell_type": "code",
   "execution_count": null,
   "id": "d95f7ba7",
   "metadata": {},
   "outputs": [],
   "source": [
    "SELECT C.customer_id, SUM(C.total)\n",
    "FROM carts as C, orders as O\n",
    "WHERE O.cart_id = C.cart_id\n",
    "GROUP BY C.customer_id\n",
    "ORDER BY -SUM(C.total)\n",
    "LIMIT 5;"
   ]
  },
  {
   "cell_type": "markdown",
   "id": "70c0f3be",
   "metadata": {},
   "source": [
    "### In this database find the flop 5 customers (ord.r.d by sp.nd.ng am..nt)"
   ]
  },
  {
   "cell_type": "code",
   "execution_count": null,
   "id": "ae9a977e",
   "metadata": {},
   "outputs": [],
   "source": [
    "SELECT C.customer_id, SUM(C.total)\n",
    "FROM carts as C, orders as O\n",
    "WHERE O.cart_id = C.cart_id\n",
    "GROUP BY C.customer_id\n",
    "ORDER BY SUM(C.total) -- delete the \"-\"\n",
    "LIMIT 5;"
   ]
  },
  {
   "cell_type": "markdown",
   "id": "24664ba1",
   "metadata": {},
   "source": [
    "### In this database, find the top 5 products. (ordered m.st, qu.nt.ty)"
   ]
  },
  {
   "cell_type": "code",
   "execution_count": null,
   "id": "ba351e61",
   "metadata": {},
   "outputs": [],
   "source": [
    "# What is the f.st.st meth.d?\n",
    "\n",
    "SELECT P.product_id, P.product_name, SUM(Joint.quantity)\n",
    "FROM \n",
    "    carts as C, \n",
    "    orders as O, \n",
    "    cart_products as Joint, \n",
    "    products as P\n",
    "WHERE \n",
    "    O.cart_id = C.cart_id \n",
    "    AND C.total > 0 \n",
    "    AND C.cart_id = Joint.cart_id \n",
    "    AND Joint.product_id = P.product_id\n",
    "GROUP BY \n",
    "    P.product_name, \n",
    "    P.product_id\n",
    "ORDER BY \n",
    "    -SUM(Joint.quantity)\n",
    "LIMIT 5;\n",
    "\n",
    "# Tim.ng (ex.cut..n t.me): 0.00198603 s\n",
    "\n",
    "SELECT P.product_id, P.product_name, SUM(Joint.quantity)\n",
    "\tFROM products as P\n",
    "\tINNER JOIN cart_products as Joint\n",
    "    ON Joint.product_id = P.product_id\n",
    "\t\tINNER JOIN carts as C\n",
    "        ON C.cart_id = Joint.cart_id\n",
    "\t\t\tINNER JOIN orders as O\n",
    "            ON O.cart_id = C.cart_id\n",
    "\t\t\t\tWHERE C.total > 0\n",
    "                GROUP BY P.product_name, P.product_id\n",
    "\t\t\t\tORDER BY -SUM(Joint.quantity)\n",
    "\t\t\t\tLIMIT 5;\n",
    "                \n",
    "# Tim.ng (ex.cut..n t.me): 0.00216079 s (time +8,79% )\n"
   ]
  },
  {
   "cell_type": "markdown",
   "id": "8c0a99ca",
   "metadata": {},
   "source": [
    "### In this database, find the average total orders, pr.d.cts pr.ce."
   ]
  },
  {
   "cell_type": "code",
   "execution_count": null,
   "id": "c462e703",
   "metadata": {},
   "outputs": [],
   "source": [
    "SELECT C.customer_id, AVG(C.total)\n",
    "FROM carts as C, orders as O\n",
    "WHERE O.cart_id = C.cart_id AND C.total > 0\n",
    "GROUP BY C.customer_id\n",
    "ORDER BY -AVG(C.total);\n",
    "\n",
    "SELECT AVG(P.price)\n",
    "FROM products as P"
   ]
  },
  {
   "cell_type": "markdown",
   "id": "ea682a81",
   "metadata": {},
   "source": [
    "### In this database, find the median order, product price."
   ]
  },
  {
   "cell_type": "code",
   "execution_count": null,
   "id": "6f80d7dc",
   "metadata": {},
   "outputs": [],
   "source": [
    "#https://www.sisense.com/blog/medians-in-sql/\n",
    "set @ct := (select count(1) from carts);\n",
    "set @row_id := 0;\n",
    "\n",
    "select avg(truc.total) as median\n",
    "from (select * from carts order by carts.total) as truc, orders\n",
    "where (select @row_id := @row_id + 1 as machin) AND truc.total > 0 AND truc.cart_id = orders.cart_id\n",
    "between @ct/2.0 and @ct/2.0 + 1;\n",
    "\n",
    "# https://stackoverflow.com/questions/1291152/simple-way-to-calculate-median-with-mysql\n",
    "SELECT CAST(SUBSTRING_INDEX(SUBSTRING_INDEX(\n",
    " GROUP_CONCAT(total ORDER BY total SEPARATOR ','),\n",
    "  ',', 50/100 * COUNT(*) + 1), ',', -1) AS DECIMAL) AS `Median`\n",
    "FROM carts, orders\n",
    "WHERE carts.total <> 0 AND carts.cart_id = orders.cart_id;\n",
    "\n",
    "\n",
    "#med..n pr.ce\n",
    "set @ct := (select count(1) from products);\n",
    "set @row_id := 0;\n",
    "\n",
    "select avg(truc.price) as median\n",
    "from (select * from products order by products.price) as truc\n",
    "where (select @row_id := @row_id + 1 as machin) AND truc.price > 0\n",
    "between @ct/2.0 and @ct/2.0 + 1;"
   ]
  },
  {
   "cell_type": "markdown",
   "id": "74f6287a",
   "metadata": {},
   "source": [
    "### In this database, find quartils"
   ]
  },
  {
   "cell_type": "code",
   "execution_count": null,
   "id": "c3965a5a",
   "metadata": {},
   "outputs": [],
   "source": [
    "# in orders\n",
    "SELECT CAST(SUBSTRING_INDEX(SUBSTRING_INDEX(\n",
    " GROUP_CONCAT(total ORDER BY total SEPARATOR ','),\n",
    "  ',', 25/100 * COUNT(*) + 1), ',', -1) AS DECIMAL) AS `Median`\n",
    "FROM carts, orders\n",
    "WHERE carts.total <> 0 AND carts.cart_id = orders.cart_id;\n",
    "\n",
    "SELECT CAST(SUBSTRING_INDEX(SUBSTRING_INDEX(\n",
    " GROUP_CONCAT(total ORDER BY total SEPARATOR ','),\n",
    "  ',', 75/100 * COUNT(*) + 1), ',', -1) AS DECIMAL) AS `Median`\n",
    "FROM carts, orders\n",
    "WHERE carts.total <> 0 AND carts.cart_id = orders.cart_id;"
   ]
  },
  {
   "cell_type": "markdown",
   "id": "1c368b67",
   "metadata": {},
   "source": [
    "### In this database, find max et min total amount ord.r"
   ]
  },
  {
   "cell_type": "code",
   "execution_count": null,
   "id": "5c61245f",
   "metadata": {},
   "outputs": [],
   "source": [
    "SELECT MAX(total_amounts.amount_sum)\n",
    "FROM (\n",
    "\tSELECT C.customer_id, SUM(C.total) as amount_sum\n",
    "\tFROM carts as C, orders as O\n",
    "\tWHERE O.cart_id = C.cart_id\n",
    "\tGROUP BY C.customer_id\n",
    "\tORDER BY SUM(C.total) ) as total_amounts\n",
    "\n",
    "SELECT MIN(total_amounts.amount_sum)\n",
    "FROM (\n",
    "\tSELECT C.customer_id, SUM(C.total) as amount_sum\n",
    "\tFROM carts as C, orders as O\n",
    "\tWHERE O.cart_id = C.cart_id\n",
    "\tGROUP BY C.customer_id\n",
    "\tORDER BY SUM(C.total) ) as total_amounts"
   ]
  },
  {
   "cell_type": "markdown",
   "id": "0ca5b99b",
   "metadata": {},
   "source": [
    "### In this database, find max et min total quantity ord.r.d"
   ]
  },
  {
   "cell_type": "code",
   "execution_count": null,
   "id": "62dac57a",
   "metadata": {},
   "outputs": [],
   "source": [
    "SELECT MAX(Ordered_Quantity.sum_quant)\n",
    "FROM (\n",
    "\tSELECT P.product_id, P.product_name, SUM(Joint.quantity) as sum_quant\n",
    "\tFROM \n",
    "\t\tcarts as C, \n",
    "\t\torders as O, \n",
    "\t\tcart_products as Joint, \n",
    "\t\tproducts as P\n",
    "\tWHERE \n",
    "\t\tO.cart_id = C.cart_id \n",
    "\t\tAND C.total > 0 \n",
    "\t\tAND C.cart_id = Joint.cart_id \n",
    "\t\tAND Joint.product_id = P.product_id\n",
    "\tGROUP BY \n",
    "\t\tP.product_name, \n",
    "\t\tP.product_id\n",
    "\tORDER BY \n",
    "\t\t-SUM(Joint.quantity) ) as Ordered_Quantity\n",
    "\n",
    "SELECT MIN(Ordered_Quantity.sum_quant)\n",
    "FROM (\n",
    "\tSELECT P.product_id, P.product_name, SUM(Joint.quantity) as sum_quant\n",
    "\tFROM \n",
    "\t\tcarts as C, \n",
    "\t\torders as O, \n",
    "\t\tcart_products as Joint, \n",
    "\t\tproducts as P\n",
    "\tWHERE \n",
    "\t\tO.cart_id = C.cart_id \n",
    "\t\tAND C.total > 0 \n",
    "\t\tAND C.cart_id = Joint.cart_id \n",
    "\t\tAND Joint.product_id = P.product_id\n",
    "\tGROUP BY \n",
    "\t\tP.product_name, \n",
    "\t\tP.product_id\n",
    "\tORDER BY \n",
    "\t\t-SUM(Joint.quantity) ) as Ordered_Quantity"
   ]
  },
  {
   "cell_type": "markdown",
   "id": "5fc06e2c",
   "metadata": {},
   "source": [
    "### In this database, find max and min price products."
   ]
  },
  {
   "cell_type": "code",
   "execution_count": null,
   "id": "8069764c",
   "metadata": {},
   "outputs": [],
   "source": [
    "SELECT MAX(P.price)\n",
    "FROM products as P;\n",
    "\n",
    "#This doesn't show the name an id... \n",
    "\n",
    "# writing MIN() in this query is actually useless, P.price alone would work\n",
    "SELECT P.product_id as p_id, P.product_name as p_name, MIN(P.price) as p_price\n",
    "FROM products as P\n",
    "GROUP BY p_id, p_name\n",
    "ORDER BY p_price\n",
    "LIMIT 1;\n",
    "\n",
    "#In this one we have id and name, the thing is: and the speed?\n",
    "# MIN is same speed exec.t..n MAX\n",
    "# only MAX: 0.000499 s \n",
    "# lot of informations: 0.000612 s (+22%)\n",
    "# a bit expected, when we want more inf.s the sp..d d.cr..s.s"
   ]
  },
  {
   "cell_type": "markdown",
   "id": "18eb4a7b",
   "metadata": {},
   "source": [
    "# Introduce Windows Functions"
   ]
  },
  {
   "cell_type": "code",
   "execution_count": null,
   "id": "f1494fed",
   "metadata": {},
   "outputs": [],
   "source": [
    "#orders total amount along the carts involved in orders\n",
    "\n",
    "SELECT C.cart_id, SUM(C.total) OVER () cart_amounts\n",
    "FROM orders as O, carts as C\n",
    "WHERE C.cart_id = O.cart_id\n",
    "\n",
    "# customer former orders ranking with only ranks number 5 to 15\n",
    "SELECT * FROM (\n",
    "\tSELECT \n",
    "\t\tROW_NUMBER() OVER (\n",
    "\t\t\tORDER BY C.total DESC\n",
    "\t\t\t) ranking, \n",
    "\t\tCstm.customer_name, \n",
    "\t\tCstm.customer_id, \n",
    "\t\tC.cart_id, \n",
    "\t\tC.total\n",
    "\tFROM \n",
    "\t\torders as O, \n",
    "\t\tcarts as C, \n",
    "\t\tcustomers as Cstm\n",
    "\tWHERE C.cart_id = O.cart_id \n",
    "\t\tand Cstm.customer_id = C.customer_id ) as test_row\n",
    "WHERE ranking >= 5 AND ranking <= 15;\n",
    "\n",
    "# get the avg order per group of c.st.m.r (de 0 à 100 / 100 à 200 / 200 à 300 )\n",
    "# get the avg order per group of c.st.m.r t.t.l sp.nd.ng\n",
    "Utiliser les Windows Functions (0)"
   ]
  },
  {
   "cell_type": "markdown",
   "id": "c8dd457a",
   "metadata": {},
   "source": [
    "### F.nd the best amount spent by customer"
   ]
  },
  {
   "cell_type": "code",
   "execution_count": null,
   "id": "5bcd5c2f",
   "metadata": {},
   "outputs": [],
   "source": [
    "WITH sub as (\n",
    "\tSELECT \n",
    "            Cstm.customer_name,\n",
    "            ROW_NUMBER() OVER (\n",
    "                PARTITION BY -C.total\n",
    "                ORDER BY C.total) row_num, \n",
    "            C.total\n",
    "        FROM \n",
    "            customers as Cstm\n",
    "            INNER JOIN carts as C\n",
    "                ON Cstm.customer_id = C.customer_id\n",
    "                INNER JOIN orders as O\n",
    "                ON C.cart_id = O.cart_id\n",
    "\t\tWHERE \n",
    "\t\t\tC.total > 0)\n",
    "SELECT \n",
    "    customer_name,\n",
    "    total,\n",
    "    row_num\n",
    "FROM \n",
    "\tsub\n",
    "WHERE \n",
    "    row_num = 1;"
   ]
  },
  {
   "cell_type": "markdown",
   "id": "fe5ede18",
   "metadata": {},
   "source": [
    "### all pending carts acc.m.l.t.d v.l..s"
   ]
  },
  {
   "cell_type": "code",
   "execution_count": null,
   "id": "71173e77",
   "metadata": {},
   "outputs": [],
   "source": [
    "# c.rts p.nd.ngs\n",
    "SELECT \n",
    "\tC.cart_id\n",
    "FROM \n",
    "\tcarts as C\n",
    "WHERE \n",
    "\tC.cart_id NOT IN (\n",
    "\t\tSELECT O.cart_id\n",
    "\t\tFROM orders as O);\n",
    "    \n",
    "# ord.r the c.rts (not ord.r.d yet) by p.nd.ng am..nt, with the total who's p.nd.nd\n",
    "SELECT \n",
    "\tC.cart_id,\n",
    "    C.total,\n",
    "    SUM(C.total) OVER () AS amount_pending\n",
    "FROM \n",
    "\tcarts as C\n",
    "WHERE \n",
    "\tC.cart_id NOT IN (\n",
    "\t\tSELECT O.cart_id\n",
    "\t\tFROM orders as O)\n",
    "ORDER BY total DESC"
   ]
  }
 ],
 "metadata": {
  "kernelspec": {
   "display_name": "Python 3 (ipykernel)",
   "language": "python",
   "name": "python3"
  },
  "language_info": {
   "codemirror_mode": {
    "name": "ipython",
    "version": 3
   },
   "file_extension": ".py",
   "mimetype": "text/x-python",
   "name": "python",
   "nbconvert_exporter": "python",
   "pygments_lexer": "ipython3",
   "version": "3.9.7"
  }
 },
 "nbformat": 4,
 "nbformat_minor": 5
}
