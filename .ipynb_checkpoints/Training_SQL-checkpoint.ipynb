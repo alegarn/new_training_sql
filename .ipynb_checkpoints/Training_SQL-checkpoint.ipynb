{
 "cells": [
  {
   "cell_type": "markdown",
   "id": "4c34cd60",
   "metadata": {},
   "source": [
    "# Python training SQL"
   ]
  },
  {
   "cell_type": "markdown",
   "id": "c90ee366",
   "metadata": {},
   "source": [
    "Some basic questions:\n",
    "- In this database, show the customers, products the orders. \n",
    "- Display the total number of customers, products and orders.\n",
    "- "
   ]
  }
 ],
 "metadata": {
  "kernelspec": {
   "display_name": "Python 3 (ipykernel)",
   "language": "python",
   "name": "python3"
  },
  "language_info": {
   "codemirror_mode": {
    "name": "ipython",
    "version": 3
   },
   "file_extension": ".py",
   "mimetype": "text/x-python",
   "name": "python",
   "nbconvert_exporter": "python",
   "pygments_lexer": "ipython3",
   "version": "3.9.7"
  }
 },
 "nbformat": 4,
 "nbformat_minor": 5
}
